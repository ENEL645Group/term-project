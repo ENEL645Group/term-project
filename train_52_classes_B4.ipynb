{
 "cells": [
  {
   "cell_type": "code",
   "execution_count": 1,
   "metadata": {},
   "outputs": [],
   "source": [
    "import sys\n",
    "sys.path.append(\".\")"
   ]
  },
  {
   "cell_type": "code",
   "execution_count": 6,
   "metadata": {},
   "outputs": [],
   "source": [
    "import numpy as np\n",
    "import glob\n",
    "import tensorflow as tf\n",
    "from tensorflow import keras\n",
    "from tensorflow.keras.preprocessing.image import ImageDataGenerator\n",
    "from tensorflow.keras.applications import EfficientNetB3\n",
    "import matplotlib.pylab as plt\n",
    "from pathlib import Path\n",
    "from tensorflow.keras import layers\n",
    "import datetime"
   ]
  },
  {
   "cell_type": "code",
   "execution_count": 7,
   "metadata": {},
   "outputs": [],
   "source": [
    "model_name_it = \"Outputs/Efficient_net_B4_it_52.h5\""
   ]
  },
  {
   "cell_type": "code",
   "execution_count": 108,
   "metadata": {},
   "outputs": [],
   "source": [
    "physical_devices = tf.config.experimental.list_physical_devices('GPU')\n",
    "tf.config.experimental.set_memory_growth(physical_devices[0], True)"
   ]
  },
  {
   "cell_type": "code",
   "execution_count": 109,
   "metadata": {},
   "outputs": [],
   "source": [
    "early_stop = tf.keras.callbacks.EarlyStopping(monitor='val_loss', patience = 20)"
   ]
  },
  {
   "cell_type": "code",
   "execution_count": 110,
   "metadata": {},
   "outputs": [],
   "source": [
    "monitor_it = tf.keras.callbacks.ModelCheckpoint(model_name_it, monitor='val_loss',\\\n",
    "                                             verbose=1,save_best_only=True,\\\n",
    "                                             save_weights_only=False,\\\n",
    "                                             mode='min')"
   ]
  },
  {
   "cell_type": "code",
   "execution_count": 111,
   "metadata": {},
   "outputs": [],
   "source": [
    "def scheduler(epoch, lr):\n",
    "    if epoch%30 == 0 and epoch!= 0:\n",
    "        lr = lr/2\n",
    "    return lr"
   ]
  },
  {
   "cell_type": "code",
   "execution_count": 112,
   "metadata": {},
   "outputs": [],
   "source": [
    "lr_schedule = tf.keras.callbacks.LearningRateScheduler(scheduler,verbose = 0)"
   ]
  },
  {
   "cell_type": "code",
   "execution_count": 113,
   "metadata": {},
   "outputs": [],
   "source": [
    "gen_params = {\"featurewise_center\":False,\\\n",
    "              \"samplewise_center\":False,\\\n",
    "              \"featurewise_std_normalization\":False,\\\n",
    "              \"samplewise_std_normalization\":False,\\\n",
    "              \"rotation_range\":90,\\\n",
    "              \"width_shift_range\":0.3,\\\n",
    "              \"height_shift_range\":0.3, \\\n",
    "              \"shear_range\":0.3, \\\n",
    "              \"zoom_range\":0.3,\\\n",
    "              \"vertical_flip\":True, \\\n",
    "              \"brightness_range\": (0.2, 2)}"
   ]
  },
  {
   "cell_type": "code",
   "execution_count": 114,
   "metadata": {},
   "outputs": [],
   "source": [
    "generator = ImageDataGenerator(**gen_params, validation_split=0.2,  preprocessing_function = tf.keras.applications.efficientnet.preprocess_input)"
   ]
  },
  {
   "cell_type": "code",
   "execution_count": 115,
   "metadata": {},
   "outputs": [],
   "source": [
    "bs = 16 # batch size"
   ]
  },
  {
   "cell_type": "code",
   "execution_count": 116,
   "metadata": {},
   "outputs": [],
   "source": [
    "path = Path(\"dataset/\")"
   ]
  },
  {
   "cell_type": "code",
   "execution_count": 117,
   "metadata": {},
   "outputs": [],
   "source": [
    "img_height = 380\n",
    "img_width = 380"
   ]
  },
  {
   "cell_type": "code",
   "execution_count": 118,
   "metadata": {},
   "outputs": [],
   "source": [
    "classes_names = [\"2_clubs\",\"2_diamonds\",\"2_hearts\",\"2_spades\",\\\n",
    "               \"3_clubs\",\"3_diamonds\",\"3_hearts\",\"3_spades\",\\\n",
    "               \"4_clubs\",\"4_diamonds\",\"4_hearts\",\"4_spades\",\\\n",
    "               \"5_clubs\",\"5_diamonds\",\"5_hearts\",\"5_spades\",\\\n",
    "               \"6_clubs\",\"6_diamonds\",\"6_hearts\",\"6_spades\",\\\n",
    "               \"7_clubs\",\"7_diamonds\",\"7_hearts\",\"7_spades\",\\\n",
    "               \"8_clubs\",\"8_diamonds\",\"8_hearts\",\"8_spades\",\\\n",
    "               \"9_clubs\",\"9_diamonds\",\"9_hearts\",\"9_spades\",\\\n",
    "               \"10_clubs\",\"10_diamonds\",\"10_hearts\",\"10_spades\",\\\n",
    "               \"ace_clubs\",\"ace_diamonds\",\"ace_hearts\",\"ace_spades\",\\\n",
    "               \"jack_clubs\",\"jack_diamonds\",\"jack_hearts\",\"jack_spades\",\\\n",
    "               \"king_clubs\",\"king_diamonds\",\"king_hearts\",\"king_spades\",\\\n",
    "               \"queen_clubs\",\"queen_diamonds\",\"queen_hearts\",\"queen_spades\"]"
   ]
  },
  {
   "cell_type": "code",
   "execution_count": 119,
   "metadata": {},
   "outputs": [
    {
     "name": "stdout",
     "output_type": "stream",
     "text": [
      "Found 24952 images belonging to 52 classes.\n"
     ]
    }
   ],
   "source": [
    "train_generator = generator.flow_from_directory(\n",
    "    directory = path,\n",
    "    target_size=(img_height, img_width),\n",
    "    batch_size=bs,\n",
    "    class_mode=\"categorical\",\n",
    "    subset='training',\n",
    "    shuffle = True,\n",
    "    interpolation=\"nearest\",\n",
    "    seed=42,\n",
    "    classes=classes_names) # set as training data"
   ]
  },
  {
   "cell_type": "code",
   "execution_count": 120,
   "metadata": {},
   "outputs": [
    {
     "name": "stdout",
     "output_type": "stream",
     "text": [
      "Found 6206 images belonging to 52 classes.\n"
     ]
    }
   ],
   "source": [
    "validation_generator = generator.flow_from_directory(\n",
    "    directory = path,\n",
    "    target_size=(img_height, img_width),\n",
    "    batch_size=bs,\n",
    "    class_mode=\"categorical\",\n",
    "    subset='validation',\n",
    "    interpolation=\"nearest\",\n",
    "    seed=42,\n",
    "    classes=classes_names) # set as validation data"
   ]
  },
  {
   "cell_type": "code",
   "execution_count": 121,
   "metadata": {},
   "outputs": [],
   "source": [
    "# Defining the model\n",
    "\n",
    "trainable_flag = True\n",
    "include_top_flag = False\n",
    "weigths_value = 'imagenet'\n",
    "\n",
    "if trainable_flag:\n",
    "    include_top_flag = True\n",
    "    weigths_value = None\n",
    "else:\n",
    "    include_top_flag = False\n",
    "    weigths_value = 'imagenet'    \n"
   ]
  },
  {
   "cell_type": "code",
   "execution_count": 122,
   "metadata": {},
   "outputs": [
    {
     "name": "stdout",
     "output_type": "stream",
     "text": [
      "None\n",
      "True\n",
      "True\n"
     ]
    }
   ],
   "source": [
    "print(weigths_value)\n",
    "print(include_top_flag)\n",
    "print(trainable_flag)\n"
   ]
  },
  {
   "cell_type": "code",
   "execution_count": 126,
   "metadata": {},
   "outputs": [],
   "source": [
    "inputs = layers.Input(shape=(img_height,img_width,3))\n",
    "outputs = tf.keras.applications.EfficientNetB4(include_top=include_top_flag, weights=weigths_value,drop_connect_rate=0.3, classes=len(classes_names))(inputs)\n",
    "model = tf.keras.Model( inputs,  outputs)"
   ]
  },
  {
   "cell_type": "code",
   "execution_count": 127,
   "metadata": {},
   "outputs": [
    {
     "name": "stdout",
     "output_type": "stream",
     "text": [
      "Initial Training Model\n",
      "Model: \"model_2\"\n",
      "_________________________________________________________________\n",
      " Layer (type)                Output Shape              Param #   \n",
      "=================================================================\n",
      " input_6 (InputLayer)        [(None, 380, 380, 3)]     0         \n",
      "                                                                 \n",
      " efficientnetb4 (Functional)  (None, 52)               17767059  \n",
      "                                                                 \n",
      "=================================================================\n",
      "Total params: 17,767,059\n",
      "Trainable params: 17,641,852\n",
      "Non-trainable params: 125,207\n",
      "_________________________________________________________________\n",
      "None\n"
     ]
    }
   ],
   "source": [
    "print(\"Initial Training Model\")\n",
    "print(model.summary())"
   ]
  },
  {
   "cell_type": "code",
   "execution_count": 128,
   "metadata": {},
   "outputs": [],
   "source": [
    "model.compile(optimizer=tf.keras.optimizers.Adam(learning_rate = 1e-3), #\n",
    "              loss='categorical_crossentropy',\n",
    "              metrics=['accuracy'])"
   ]
  },
  {
   "cell_type": "code",
   "execution_count": null,
   "metadata": {
    "tags": []
   },
   "outputs": [],
   "source": [
    "#model = tf.keras.models.load_model(model_name_it)\n",
    "#model.summary()"
   ]
  },
  {
   "cell_type": "code",
   "execution_count": null,
   "metadata": {
    "tags": []
   },
   "outputs": [],
   "source": [
    "history_it = model.fit(train_generator, epochs=1000, verbose = 1, \\\n",
    "                       workers=8, validation_data = (validation_generator),  callbacks= [monitor_it,early_stop,lr_schedule])"
   ]
  },
  {
   "cell_type": "code",
   "execution_count": null,
   "metadata": {},
   "outputs": [],
   "source": [
    "model.save(model_name_it+'_last_model')\n",
    "np.save('Outputs/Efficient_net_B4_it_52.npy',history_it.history)\n"
   ]
  },
  {
   "cell_type": "code",
   "execution_count": 126,
   "metadata": {},
   "outputs": [
    {
     "name": "stdout",
     "output_type": "stream",
     "text": [
      "dict_keys(['loss', 'accuracy', 'val_loss', 'val_accuracy', 'lr'])\n"
     ]
    },
    {
     "data": {
      "image/png": "[encoded data removed]",
      "text/plain": [
       "<Figure size 432x288 with 1 Axes>"
      ]
     },
     "metadata": {
      "needs_background": "light"
     },
     "output_type": "display_data"
    },
    {
     "data": {
      "image/png": "[encoded data removed]",
      "text/plain": [
       "<Figure size 432x288 with 1 Axes>"
      ]
     },
     "metadata": {
      "needs_background": "light"
     },
     "output_type": "display_data"
    }
   ],
   "source": [
    "# list all data in history\n",
    "print(chistory_it.keys())\n",
    "# summarize history for accuracy\n",
    "plt.plot(history_it['accuracy'])\n",
    "plt.plot(history_it['val_accuracy'])\n",
    "plt.title('model accuracy')\n",
    "plt.ylabel('accuracy')\n",
    "plt.xlabel('epoch')\n",
    "plt.legend(['train', 'test'], loc='upper left')\n",
    "plt.show()\n",
    "# summarize history for loss\n",
    "plt.plot(history_it['loss'])\n",
    "plt.plot(history_it['val_loss'])\n",
    "plt.title('model loss')\n",
    "plt.ylabel('loss')\n",
    "plt.xlabel('epoch')\n",
    "plt.legend(['train', 'test'], loc='upper left')\n",
    "plt.show()"
   ]
  },
  {
   "cell_type": "code",
   "execution_count": null,
   "metadata": {},
   "outputs": [],
   "source": [
    "gen_params = {\"featurewise_center\":False,\\\n",
    "              \"samplewise_center\":False,\\\n",
    "              \"featurewise_std_normalization\":False,\\\n",
    "              \"samplewise_std_normalization\":False,\\\n",
    "              \"rotation_range\":90,\\\n",
    "              \"width_shift_range\":0.2,\\\n",
    "              \"height_shift_range\":0.2, \\\n",
    "              \"shear_range\":0.2, \\\n",
    "              \"zoom_range\":0.2,\\\n",
    "              \"vertical_flip\":True,\\\n",
    "              \"brightness_range\": (0.1, 2)}"
   ]
  },
  {
   "cell_type": "code",
   "execution_count": null,
   "metadata": {},
   "outputs": [],
   "source": [
    "generator = ImageDataGenerator(**gen_params, validation_split=0.2,  preprocessing_function = tf.keras.applications.efficientnet.preprocess_input)"
   ]
  },
  {
   "cell_type": "code",
   "execution_count": null,
   "metadata": {},
   "outputs": [],
   "source": [
    "train_generator = generator.flow_from_directory(\n",
    "    directory = path,\n",
    "    target_size=(img_height, img_width),\n",
    "    batch_size=bs,\n",
    "    class_mode=\"categorical\",\n",
    "    subset='training',\n",
    "    shuffle = True,\n",
    "    interpolation=\"nearest\",\n",
    "    seed=42,\n",
    "    classes=classes_names) # set as training data"
   ]
  },
  {
   "cell_type": "code",
   "execution_count": null,
   "metadata": {},
   "outputs": [],
   "source": [
    "validation_generator = generator.flow_from_directory(\n",
    "    directory = path,\n",
    "    target_size=(img_height, img_width),\n",
    "    batch_size=bs,\n",
    "    class_mode=\"categorical\",\n",
    "    subset='validation',\n",
    "    interpolation=\"nearest\",\n",
    "    seed=42,\n",
    "    classes=classes_names) # set as validation data"
   ]
  },
  {
   "cell_type": "code",
   "execution_count": null,
   "metadata": {
    "tags": []
   },
   "outputs": [],
   "source": [
    "history_ft = model.fit(train_generator, epochs=10, verbose = 1, \\\n",
    "                       workers=8, validation_data = (validation_generator),  callbacks= [monitor_it,early_stop,lr_schedule,tensorboard_callback])"
   ]
  },
  {
   "cell_type": "code",
   "execution_count": null,
   "metadata": {},
   "outputs": [],
   "source": [
    "#model.save('final_ft_EfficientNetB0_52_96_percent.h5')\n",
    "#np.save('efficientNetB0_history_96.npy',history_it.history)\n"
   ]
  },
  {
   "cell_type": "markdown",
   "metadata": {},
   "source": [
    " SAVE TO JSON"
   ]
  },
  {
   "cell_type": "code",
   "execution_count": 8,
   "metadata": {},
   "outputs": [],
   "source": [
    "enitre_model_path ='BEST_MODEL_B4/Efficientnet_B4_it_52_V12_epoch95.h5'\n",
    "model = tf.keras.models.load_model(enitre_model_path)"
   ]
  },
  {
   "cell_type": "code",
   "execution_count": 4,
   "metadata": {},
   "outputs": [],
   "source": [
    "json_config_path = 'BEST_MODEL_B4/Efficientnet_B4_model_config.json'\n",
    "weights_path = 'BEST_MODEL_B4/Efficientnet_B4_it_52_V12_epoch95_weights.h5'"
   ]
  },
  {
   "cell_type": "code",
   "execution_count": 5,
   "metadata": {},
   "outputs": [],
   "source": [
    "#model = tf.keras.models.load_model('BEST_MODEL_B4/Efficientnet_B4_it_52_V4_epoch37.h5')\n",
    "model.save_weights(weights_path)\n",
    "#history_it=np.load('',allow_pickle='TRUE').item()"
   ]
  },
  {
   "cell_type": "code",
   "execution_count": 16,
   "metadata": {},
   "outputs": [],
   "source": [
    "import json\n",
    "json_config = model.to_json()\n",
    "with open(json_config_path, 'w') as outfile:\n",
    "    json.dump(json_config, outfile,indent=4)"
   ]
  },
  {
   "cell_type": "code",
   "execution_count": null,
   "metadata": {},
   "outputs": [],
   "source": []
  }
 ],
 "metadata": {
  "kernelspec": {
   "display_name": "Python 3 (ipykernel)",
   "language": "python",
   "name": "python3"
  },
  "language_info": {
   "codemirror_mode": {
    "name": "ipython",
    "version": 3
   },
   "file_extension": ".py",
   "mimetype": "text/x-python",
   "name": "python",
   "nbconvert_exporter": "python",
   "pygments_lexer": "ipython3",
   "version": "3.9.7"
  }
 },
 "nbformat": 4,
 "nbformat_minor": 4
}
