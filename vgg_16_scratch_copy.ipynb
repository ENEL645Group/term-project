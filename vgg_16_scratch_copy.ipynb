{
 "cells": [
  {
   "cell_type": "code",
   "execution_count": null,
   "metadata": {},
   "outputs": [],
   "source": [
    "import sys\n",
    "import numpy as np\n",
    "import glob\n",
    "import tensorflow as tf\n",
    "from tensorflow import keras\n",
    "from tensorflow.keras.preprocessing.image import ImageDataGenerator\n",
    "from tensorflow.keras.applications import EfficientNetB0\n",
    "from tensorflow.keras import layers\n",
    "import matplotlib.pylab as plt\n",
    "import pickle\n",
    "from pathlib import Path\n",
    "from skimage.transform import resize"
   ]
  },
  {
   "cell_type": "code",
   "execution_count": null,
   "metadata": {},
   "outputs": [],
   "source": [
    "physical_devices = tf.config.experimental.list_physical_devices('GPU')\n",
    "tf.config.experimental.set_memory_growth(physical_devices[0], True)"
   ]
  },
  {
   "cell_type": "code",
   "execution_count": null,
   "metadata": {},
   "outputs": [],
   "source": [
    "classes_names = [\"2_clubs\",\"2_diamonds\",\"2_hearts\",\"2_spades\",\\\n",
    "               \"3_clubs\",\"3_diamonds\",\"3_hearts\",\"3_spades\",\\\n",
    "               \"4_clubs\",\"4_diamonds\",\"4_hearts\",\"4_spades\",\\\n",
    "               \"5_clubs\",\"5_diamonds\",\"5_hearts\",\"5_spades\",\\\n",
    "               \"6_clubs\",\"6_diamonds\",\"6_hearts\",\"6_spades\",\\\n",
    "               \"7_clubs\",\"7_diamonds\",\"7_hearts\",\"7_spades\",\\\n",
    "               \"8_clubs\",\"8_diamonds\",\"8_hearts\",\"8_spades\",\\\n",
    "               \"9_clubs\",\"9_diamonds\",\"9_hearts\",\"9_spades\",\\\n",
    "               \"10_clubs\",\"10_diamonds\",\"10_hearts\",\"10_spades\",\\\n",
    "               \"ace_clubs\",\"ace_diamonds\",\"ace_hearts\",\"ace_spades\",\\\n",
    "               \"jack_clubs\",\"jack_diamonds\",\"jack_hearts\",\"jack_spades\",\\\n",
    "               \"king_clubs\",\"king_diamonds\",\"king_hearts\",\"king_spades\",\\\n",
    "               \"queen_clubs\",\"queen_diamonds\",\"queen_hearts\",\"queen_spades\"]"
   ]
  },
  {
   "cell_type": "code",
   "execution_count": null,
   "metadata": {},
   "outputs": [],
   "source": [
    "gen_params = {\"samplewise_center\":True,\\\n",
    "              \"samplewise_std_normalization\":True}"
   ]
  },
  {
   "cell_type": "code",
   "execution_count": null,
   "metadata": {},
   "outputs": [],
   "source": [
    "generator = ImageDataGenerator(**gen_params, validation_split=0.15)"
   ]
  },
  {
   "cell_type": "code",
   "execution_count": null,
   "metadata": {},
   "outputs": [],
   "source": [
    "bs = 32 # batch size"
   ]
  },
  {
   "cell_type": "code",
   "execution_count": null,
   "metadata": {},
   "outputs": [],
   "source": [
    "path = Path(\"dataset/\")"
   ]
  },
  {
   "cell_type": "code",
   "execution_count": null,
   "metadata": {},
   "outputs": [],
   "source": [
    "img_height = 224\n",
    "img_width = 224"
   ]
  },
  {
   "cell_type": "code",
   "execution_count": null,
   "metadata": {},
   "outputs": [],
   "source": [
    "train_generator = generator.flow_from_directory(\n",
    "    directory = path,\n",
    "    target_size=(img_height, img_width),\n",
    "    batch_size=bs,\n",
    "    class_mode=\"categorical\",\n",
    "    subset='training',\n",
    "    interpolation=\"nearest\",\n",
    "    shuffle=True,\n",
    "    seed=69,\n",
    "    classes=classes_names) # set as training data"
   ]
  },
  {
   "cell_type": "code",
   "execution_count": null,
   "metadata": {},
   "outputs": [],
   "source": [
    "validation_generator = generator.flow_from_directory(\n",
    "    directory = path,\n",
    "    target_size=(img_height, img_width),\n",
    "    batch_size=bs,\n",
    "    class_mode=\"categorical\",\n",
    "    subset='validation',\n",
    "    interpolation=\"nearest\",\n",
    "    shuffle=True,\n",
    "    seed=69,\n",
    "    classes=classes_names) # set as validation data"
   ]
  },
  {
   "cell_type": "code",
   "execution_count": null,
   "metadata": {
    "scrolled": true
   },
   "outputs": [],
   "source": [
    "#Exploratory data analysis\n",
    "Xbatch, Ybatch = train_generator.__getitem__(0)\n",
    "\n",
    "plt.figure(figsize = (32,24))\n",
    "\n",
    "labels = Ybatch\n",
    "\n",
    "for ii in range(int(bs/4)):\n",
    "    plt.subplot(4,4,ii+1)\n",
    "    plt.imshow((Xbatch[ii]- Xbatch[ii].min())/(Xbatch.max() - Xbatch[ii].min()), cmap = \"gray\")\n",
    "    label = int(labels[ii].argmax())\n",
    "    plt.title(\"Label: {}\".format(label),\\\n",
    "              fontsize=30)\n",
    "plt.show()"
   ]
  },
  {
   "cell_type": "code",
   "execution_count": null,
   "metadata": {},
   "outputs": [],
   "source": [
    "trainable_flag = True\n",
    "include_top_flag = False\n",
    "weigths_value = 'imagenet'\n",
    "\n",
    "if trainable_flag:\n",
    "    include_top_flag = True\n",
    "    weigths_value = None\n",
    "else:\n",
    "    include_top_flag = False\n",
    "    weigths_value = 'imagenet'"
   ]
  },
  {
   "cell_type": "code",
   "execution_count": null,
   "metadata": {},
   "outputs": [],
   "source": [
    "base_model = tf.keras.applications.VGG16(\n",
    "    weights=weigths_value,\n",
    "    input_tensor=None,\n",
    "    pooling=None,\n",
    "    classifier_activation=\"softmax\",\n",
    "    input_shape=(img_height, img_width, 3),\n",
    "    include_top=include_top_flag,\n",
    "    classes=len(classes_names) )\n",
    "\n",
    "base_model.trainable = trainable_flag\n",
    "inputs = layers.Input(shape=(img_height,img_width,3))\n",
    "outputs = base_model(inputs)\n",
    "model = tf.keras.Model( inputs,  outputs)"
   ]
  },
  {
   "cell_type": "code",
   "execution_count": null,
   "metadata": {
    "scrolled": true
   },
   "outputs": [],
   "source": [
    "print(\"Model Summary:\")\n",
    "print(model.summary())"
   ]
  },
  {
   "cell_type": "code",
   "execution_count": null,
   "metadata": {},
   "outputs": [],
   "source": [
    "def scheduler(epoch, lr):\n",
    "    if epoch%25 == 0 and epoch!= 0:\n",
    "        lr = lr/(1.5)\n",
    "    return lr\n",
    "\n",
    "filepath_name='model_{epoch:d}.h5'\n",
    "\n",
    "monitor_it = tf.keras.callbacks.ModelCheckpoint(filepath = filepath_name , monitor='val_loss',\\\n",
    "                                             verbose=1,save_best_only=False,\\\n",
    "                                             save_weights_only=False,\\\n",
    "                                             mode='auto',\\\n",
    "                                             save_freq='epoch')\n",
    "\n",
    "early_stop = tf.keras.callbacks.EarlyStopping(monitor='val_loss', patience = 40, min_delta=0.01)\n",
    "\n",
    "lr_schedule = tf.keras.callbacks.LearningRateScheduler(scheduler,verbose = 0)"
   ]
  },
  {
   "cell_type": "code",
   "execution_count": null,
   "metadata": {},
   "outputs": [],
   "source": [
    "num_epochs = 20\n",
    "init_lr = 0.5e-4\n",
    "\n",
    "model.compile(optimizer=tf.keras.optimizers.Adam(learning_rate = init_lr),\\\n",
    "              loss='categorical_crossentropy',\\\n",
    "              metrics=['accuracy'])"
   ]
  },
  {
   "cell_type": "code",
   "execution_count": null,
   "metadata": {},
   "outputs": [],
   "source": [
    "history_it = model.fit(train_generator, epochs=num_epochs, verbose = 1, \\\n",
    "                       workers=8, validation_data = (validation_generator),\\\n",
    "                       callbacks= [monitor_it, early_stop, lr_schedule], shuffle=True, initial_epoch=0)"
   ]
  },
  {
   "cell_type": "code",
   "execution_count": null,
   "metadata": {},
   "outputs": [],
   "source": [
    "fig, axes = plt.subplots(nrows=1, ncols=2, figsize=(14, 7))\n",
    "\n",
    "axes[0].plot(history_it.history[\"loss\"], label = \"Loss\")\n",
    "axes[0].plot(history_it.history[\"val_loss\"], label = \"Val. loss\")\n",
    "\n",
    "axes[0].legend(prop={'size': 16})\n",
    "\n",
    "axes[1].plot(history_it.history[\"accuracy\"], label = \"Acc.\")\n",
    "axes[1].plot(history_it.history[\"val_accuracy\"], label = \"Val Acc.\")\n",
    "\n",
    "axes[1].legend(prop={'size': 16})\n",
    "\n",
    "plt.show()"
   ]
  }
 ],
 "metadata": {
  "kernelspec": {
   "display_name": "Python 3 (ipykernel)",
   "language": "python",
   "name": "python3"
  },
  "language_info": {
   "codemirror_mode": {
    "name": "ipython",
    "version": 3
   },
   "file_extension": ".py",
   "mimetype": "text/x-python",
   "name": "python",
   "nbconvert_exporter": "python",
   "pygments_lexer": "ipython3",
   "version": "3.9.7"
  }
 },
 "nbformat": 4,
 "nbformat_minor": 2
}
