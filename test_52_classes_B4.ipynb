{
 "cells": [
  {
   "cell_type": "markdown",
   "id": "b8ce64fc-c45a-4517-b9fa-686f9210e807",
   "metadata": {},
   "source": [
    "# Testing EfficientNetB4 Model"
   ]
  },
  {
   "cell_type": "code",
   "execution_count": null,
   "id": "db956b21-fcdd-45e8-87ee-7ef24cbfabcd",
   "metadata": {},
   "outputs": [],
   "source": [
    "import sys\n",
    "sys.path.append(\".\")\n",
    "import numpy as np\n",
    "import glob\n",
    "import tensorflow as tf\n",
    "from tensorflow import keras\n",
    "from tensorflow.keras.preprocessing.image import ImageDataGenerator\n",
    "from tensorflow.keras.applications import EfficientNetB3\n",
    "import matplotlib.pylab as plt\n",
    "from pathlib import Path\n",
    "from tensorflow.keras import layers\n",
    "\n",
    "#from PlayingCardsGenerator import CardsDataGenerator\n",
    "import datetime"
   ]
  },
  {
   "cell_type": "code",
   "execution_count": null,
   "id": "0f897136-37e4-4f60-a35f-26232092872d",
   "metadata": {},
   "outputs": [],
   "source": [
    "## NO MODEL YET\n",
    "\n",
    "model = tf.keras.models.load_model('')\n",
    "history_it=np.load('',allow_pickle='TRUE').item()"
   ]
  },
  {
   "cell_type": "code",
   "execution_count": null,
   "id": "518117ff-1f8f-41c0-9df8-e1a02aca9b39",
   "metadata": {},
   "outputs": [],
   "source": [
    "# list all data in history\n",
    "print(history_it.keys())\n",
    "# summarize history for accuracy\n",
    "plt.plot(history_it['accuracy'])\n",
    "plt.plot(history_it['val_accuracy'])\n",
    "plt.title('model accuracy')\n",
    "plt.ylabel('accuracy')\n",
    "plt.xlabel('epoch')\n",
    "plt.legend(['train', 'test'], loc='upper left')\n",
    "plt.show()\n",
    "# summarize history for loss\n",
    "plt.plot(history_it['loss'])\n",
    "plt.plot(history_it['val_loss'])\n",
    "plt.title('model loss')\n",
    "plt.ylabel('loss')\n",
    "plt.xlabel('epoch')\n",
    "plt.legend(['train', 'test'], loc='upper left')\n",
    "plt.show()"
   ]
  },
  {
   "cell_type": "code",
   "execution_count": null,
   "id": "1951825a-b8eb-4e10-b527-579ba032d457",
   "metadata": {},
   "outputs": [],
   "source": [
    "img_height = 380 #B4\n",
    "img_width = 380 #B4\n",
    "bs = 16 # batch size\n",
    "classes_names = [\"2_clubs\",\"2_diamonds\",\"2_hearts\",\"2_spades\",\\\n",
    "               \"3_clubs\",\"3_diamonds\",\"3_hearts\",\"3_spades\",\\\n",
    "               \"4_clubs\",\"4_diamonds\",\"4_hearts\",\"4_spades\",\\\n",
    "               \"5_clubs\",\"5_diamonds\",\"5_hearts\",\"5_spades\",\\\n",
    "               \"6_clubs\",\"6_diamonds\",\"6_hearts\",\"6_spades\",\\\n",
    "               \"7_clubs\",\"7_diamonds\",\"7_hearts\",\"7_spades\",\\\n",
    "               \"8_clubs\",\"8_diamonds\",\"8_hearts\",\"8_spades\",\\\n",
    "               \"9_clubs\",\"9_diamonds\",\"9_hearts\",\"9_spades\",\\\n",
    "               \"10_clubs\",\"10_diamonds\",\"10_hearts\",\"10_spades\",\\\n",
    "               \"ace_clubs\",\"ace_diamonds\",\"ace_hearts\",\"ace_spades\",\\\n",
    "               \"jack_clubs\",\"jack_diamonds\",\"jack_hearts\",\"jack_spades\",\\\n",
    "               \"king_clubs\",\"king_diamonds\",\"king_hearts\",\"king_spades\",\\\n",
    "               \"queen_clubs\",\"queen_diamonds\",\"queen_hearts\",\"queen_spades\"]"
   ]
  },
  {
   "cell_type": "code",
   "execution_count": null,
   "id": "4c090ae1-859f-4299-a78e-3ea897142806",
   "metadata": {},
   "outputs": [],
   "source": [
    "testgen = ImageDataGenerator()\n",
    "test_generator = testgen.flow_from_directory(\n",
    "\n",
    "    directory = 'dataset_test_hard',\n",
    "    target_size=(img_height, img_width),\n",
    "    batch_size=bs,\n",
    "    class_mode=\"categorical\",\n",
    "    shuffle=False,\n",
    "    #subset='validation',\n",
    "    interpolation=\"nearest\",\n",
    "    classes=classes_names) # set as validation data\n",
    "filenames = test_generator.filenames\n",
    "nb_samples = len(filenames)"
   ]
  },
  {
   "cell_type": "code",
   "execution_count": null,
   "id": "0bdd9016-29b0-44c8-b796-0c545517c0c3",
   "metadata": {},
   "outputs": [],
   "source": [
    "plt.figure(figsize = (32,24))\n",
    "Xbatch,Ybatch = test_generator.__getitem__(1)\n",
    "\n",
    "for ii in range(int(bs)):\n",
    "    plt.subplot(4,4,ii+1)\n",
    "    plt.imshow((Xbatch[ii]- Xbatch[ii].min())/(Xbatch.max() - Xbatch[ii].min()), cmap = \"gray\")\n",
    "    class_idx = int(Ybatch[ii].argmax())\n",
    "    plt.title(\"Label: {}\".format(classes_names[class_idx]), fontsize=25)\n",
    "plt.show()"
   ]
  },
  {
   "cell_type": "code",
   "execution_count": null,
   "id": "7b065b55-e474-46ec-a944-f72d32e87475",
   "metadata": {},
   "outputs": [],
   "source": [
    "predict = model.predict(test_generator, verbose = 1)\n"
   ]
  },
  {
   "cell_type": "code",
   "execution_count": null,
   "id": "66802a5e-db61-4665-b068-8582dd5b0c8b",
   "metadata": {},
   "outputs": [],
   "source": [
    "plt.figure(figsize = (32,24))\n",
    "batch_num = 2\n",
    "Xbatch,Ybatch = test_generator.__getitem__(batch_num)\n",
    "\n",
    "for ii in range(int(bs)):\n",
    "    plt.subplot(4,4,ii+1)\n",
    "    plt.imshow((Xbatch[ii]- Xbatch[ii].min())/(Xbatch.max() - Xbatch[ii].min()), cmap = \"gray\")\n",
    "    class_idx = int(predict[ii +(batch_num*bs)].argmax())\n",
    "    plt.title(\"Label: {}\".format(classes_names[class_idx] + \" \" + str(predict[ii +(batch_num*bs)].max())), fontsize=25)\n",
    "plt.show()\n"
   ]
  },
  {
   "cell_type": "code",
   "execution_count": null,
   "id": "12d6ec66-ede1-4cb6-805f-6f2ac9b7cc92",
   "metadata": {},
   "outputs": [],
   "source": [
    "eval = model.evaluate(test_generator, verbose = 1)\n"
   ]
  },
  {
   "cell_type": "code",
   "execution_count": null,
   "id": "715f9257-1151-419b-8899-34df0e2c2a33",
   "metadata": {},
   "outputs": [],
   "source": [
    "import pandas as pd\n",
    "pred_value = np.max(predict,axis = 1)\n",
    "pred_idx = (np.argmax(predict,axis = 1)).astype(int).transpose()\n",
    "pred_class = [classes_names[i] for i in pred_idx]\n",
    "df = pd.DataFrame(data=pred_idx,columns= ['idx'])\n",
    "df['pred_class'] = pred_class\n",
    "df['pred_value'] =  pred_value\n",
    "df['file_name'] = filenames\n",
    "df.head()"
   ]
  },
  {
   "cell_type": "code",
   "execution_count": null,
   "id": "802ecea3-28bd-4569-a29a-02d41b6493e6",
   "metadata": {},
   "outputs": [],
   "source": [
    "df.to_csv('dataset_new_test.csv', index=True)"
   ]
  },
  {
   "cell_type": "markdown",
   "id": "a42d8475-3e7e-4f0e-8c79-9faf84cb792a",
   "metadata": {},
   "source": [
    "## Single image test"
   ]
  },
  {
   "cell_type": "code",
   "execution_count": null,
   "id": "9a95d960-cf84-4b3f-a138-bfe43a0f02ca",
   "metadata": {},
   "outputs": [],
   "source": [
    "from keras.preprocessing import image\n",
    "img_path  = \"dataset_test_hard/king_hearts/IMG_7008.jpg\"\n",
    "img = image.load_img(img_path, target_size=(img_width, img_height))\n",
    "plt.figure(figsize = (10,10))\n",
    "plt.imshow(img)\n",
    "x = image.img_to_array(img)\n",
    "x = np.expand_dims(x, axis=0)\n",
    "images = np.vstack([x])\n"
   ]
  },
  {
   "cell_type": "code",
   "execution_count": null,
   "id": "a149a026-5239-4538-8143-452275b15500",
   "metadata": {},
   "outputs": [],
   "source": [
    "pred = model.predict(images, batch_size=10, verbose =1)\n",
    "print('Predicted card:',classes_names[np.argmax(pred)])\n",
    "print('certainty', pred[0][np.argmax(pred)]*100,\"%\")"
   ]
  }
 ],
 "metadata": {
  "kernelspec": {
   "display_name": "Python 3 (ipykernel)",
   "language": "python",
   "name": "python3"
  },
  "language_info": {
   "codemirror_mode": {
    "name": "ipython",
    "version": 3
   },
   "file_extension": ".py",
   "mimetype": "text/x-python",
   "name": "python",
   "nbconvert_exporter": "python",
   "pygments_lexer": "ipython3",
   "version": "3.9.7"
  }
 },
 "nbformat": 4,
 "nbformat_minor": 5
}
